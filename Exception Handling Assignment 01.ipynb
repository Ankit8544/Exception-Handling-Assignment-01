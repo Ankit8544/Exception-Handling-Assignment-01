{
 "cells": [
  {
   "cell_type": "markdown",
   "id": "d73632af-12fa-4cf2-bd72-3b77c09dc00e",
   "metadata": {},
   "source": [
    "Q.No-01    What is an Exception in python? Write the difference between Exceptions and syntax errors.\n"
   ]
  },
  {
   "cell_type": "markdown",
   "id": "b72c77e4-a0a2-4a4d-86c5-65e95fcfd75e",
   "metadata": {},
   "source": [
    "Ans:"
   ]
  },
  {
   "cell_type": "markdown",
   "id": "59fa6d99-b00b-49fa-89c8-c9783d3489a6",
   "metadata": {},
   "source": [
    "In Python, an exception is an event that occurs during the execution of a program, which disrupts the normal flow of the program's instructions. When an exception occurs, the program halts and jumps to a special code block called an exception handler. The exception handler is responsible for handling the exception and taking appropriate actions, such as displaying an error message or recovering from the error."
   ]
  },
  {
   "cell_type": "markdown",
   "id": "95be0388-2eed-495d-9834-583d3ebee351",
   "metadata": {},
   "source": [
    "Exceptions can occur due to various reasons, such as errors in program logic, input/output issues, resource unavailability, or even user-defined conditions. Python provides a built-in mechanism for handling exceptions using the try-except block. You can enclose the code that might raise an exception within the try block, and then define one or more except blocks to handle specific types of exceptions."
   ]
  },
  {
   "cell_type": "markdown",
   "id": "55dd6203-a3ee-4815-925d-bcf5fc748b2e",
   "metadata": {},
   "source": [
    "Here are the main differences between exceptions and syntax errors in Python:\n",
    "\n",
    "1. Cause: Exceptions occur during the execution of a program when something unexpected happens, while syntax errors occur due to mistakes or violations of the Python language syntax.\n",
    "\n",
    "2. Timing: Exceptions are raised during the runtime of a program when a specific condition or error occurs, while syntax errors are identified before the program starts running during the parsing or compilation phase.\n",
    "\n",
    "3. Handling: Exceptions can be handled using the try-except block, allowing you to catch and handle specific types of exceptions. Syntax errors cannot be handled as they prevent the code from being executed altogether.\n",
    "\n",
    "4. Impact: Exceptions disrupt the normal flow of the program, but with proper exception handling, the program can continue running. Syntax errors, on the other hand, prevent the program from running until the syntax errors are fixed."
   ]
  },
  {
   "cell_type": "markdown",
   "id": "17a17262-891a-4bc2-a4c0-361e14620b74",
   "metadata": {},
   "source": [
    "-------------------------------------------------------------------------------------------------------------------"
   ]
  },
  {
   "cell_type": "markdown",
   "id": "4de52e0d-fe35-4b9e-8592-e01a95961f53",
   "metadata": {},
   "source": [
    "Q.No-02    What happens when an exception is not handled? Explain with an example."
   ]
  },
  {
   "cell_type": "markdown",
   "id": "b02cb3fd-5735-4557-8533-0520756f3b5a",
   "metadata": {},
   "source": [
    "Ans:"
   ]
  },
  {
   "cell_type": "markdown",
   "id": "d11754db-4ed1-49a6-b99d-89801a024820",
   "metadata": {},
   "source": [
    "If an exception is not caught (with a catch block), the runtime system will abort the program (i.e. crash) and an exception message will print to the console. The message typically includes: name of exception type and short description."
   ]
  },
  {
   "cell_type": "markdown",
   "id": "27ac4026-c608-4d18-8be6-f25486866f78",
   "metadata": {},
   "source": [
    "For Example:"
   ]
  },
  {
   "cell_type": "code",
   "execution_count": 1,
   "id": "be5e9a79-82ae-4a57-a63c-e3e20e3c6958",
   "metadata": {},
   "outputs": [],
   "source": [
    "import logging\n",
    "\n",
    "# Create the logger\n",
    "Exception_Handling = logging.getLogger('Exception_Handling')\n",
    "Exception_Handling.setLevel(logging.DEBUG)\n",
    "\n",
    "# Create a file handler for the logger\n",
    "file_handler1 = logging.FileHandler('Exception_Handler.log')\n",
    "file_handler1.setLevel(logging.DEBUG)\n",
    "\n",
    "# Create a formatter for the logger\n",
    "formatter1 = logging.Formatter('%(levelname)s - %(message)s')\n",
    "file_handler1.setFormatter(formatter1)\n",
    "\n",
    "# Add the file handler to the logger\n",
    "Exception_Handling.addHandler(file_handler1)"
   ]
  },
  {
   "cell_type": "code",
   "execution_count": 2,
   "id": "fb1ba09f-2a4f-418f-8212-ed2835ab52f2",
   "metadata": {},
   "outputs": [],
   "source": [
    "Exception_Handling.info(\"Without Exception Handling..........\")"
   ]
  },
  {
   "cell_type": "code",
   "execution_count": 3,
   "id": "5b705b04-bf99-43f4-a1ac-3be63f2e63de",
   "metadata": {},
   "outputs": [],
   "source": [
    "Exception_Handling.info(\"Creating a function to divide two number\")"
   ]
  },
  {
   "cell_type": "code",
   "execution_count": 4,
   "id": "b560aebc-7dd3-459e-9c2a-659c2f53b05b",
   "metadata": {},
   "outputs": [],
   "source": [
    "def divide_numbers(a, b):\n",
    "    Exception_Handling.info(\"Dividing numbers: a = {}, b = {}\".format(a, b))\n",
    "    result = a / b\n",
    "    return result"
   ]
  },
  {
   "cell_type": "code",
   "execution_count": 5,
   "id": "743dca3b-577d-45b3-9d07-63ebb709bcd6",
   "metadata": {},
   "outputs": [
    {
     "ename": "ZeroDivisionError",
     "evalue": "division by zero",
     "output_type": "error",
     "traceback": [
      "\u001b[0;31m---------------------------------------------------------------------------\u001b[0m",
      "\u001b[0;31mZeroDivisionError\u001b[0m                         Traceback (most recent call last)",
      "Cell \u001b[0;32mIn[5], line 1\u001b[0m\n\u001b[0;32m----> 1\u001b[0m result \u001b[38;5;241m=\u001b[39m \u001b[43mdivide_numbers\u001b[49m\u001b[43m(\u001b[49m\u001b[38;5;241;43m10\u001b[39;49m\u001b[43m,\u001b[49m\u001b[43m \u001b[49m\u001b[38;5;241;43m0\u001b[39;49m\u001b[43m)\u001b[49m\n\u001b[1;32m      2\u001b[0m Exception_Handling\u001b[38;5;241m.\u001b[39minfo(\u001b[38;5;124m\"\u001b[39m\u001b[38;5;124mResult: \u001b[39m\u001b[38;5;132;01m{}\u001b[39;00m\u001b[38;5;124m\"\u001b[39m\u001b[38;5;241m.\u001b[39mformat(result))\n\u001b[1;32m      4\u001b[0m \u001b[38;5;66;03m# Division by zero, raises ZeroDivisionError\u001b[39;00m\n\u001b[1;32m      5\u001b[0m \u001b[38;5;66;03m# They don't execute others lines after error comes in the above line\u001b[39;00m\n",
      "Cell \u001b[0;32mIn[4], line 3\u001b[0m, in \u001b[0;36mdivide_numbers\u001b[0;34m(a, b)\u001b[0m\n\u001b[1;32m      1\u001b[0m \u001b[38;5;28;01mdef\u001b[39;00m \u001b[38;5;21mdivide_numbers\u001b[39m(a, b):\n\u001b[1;32m      2\u001b[0m     Exception_Handling\u001b[38;5;241m.\u001b[39minfo(\u001b[38;5;124m\"\u001b[39m\u001b[38;5;124mDividing numbers: a = \u001b[39m\u001b[38;5;132;01m{}\u001b[39;00m\u001b[38;5;124m, b = \u001b[39m\u001b[38;5;132;01m{}\u001b[39;00m\u001b[38;5;124m\"\u001b[39m\u001b[38;5;241m.\u001b[39mformat(a, b))\n\u001b[0;32m----> 3\u001b[0m     result \u001b[38;5;241m=\u001b[39m \u001b[43ma\u001b[49m\u001b[43m \u001b[49m\u001b[38;5;241;43m/\u001b[39;49m\u001b[43m \u001b[49m\u001b[43mb\u001b[49m\n\u001b[1;32m      4\u001b[0m     \u001b[38;5;28;01mreturn\u001b[39;00m result\n",
      "\u001b[0;31mZeroDivisionError\u001b[0m: division by zero"
     ]
    }
   ],
   "source": [
    "result = divide_numbers(10, 0)\n",
    "Exception_Handling.info(\"Result: {}\".format(result))\n",
    "\n",
    "# Division by zero, raises ZeroDivisionError\n",
    "# They don't execute others lines after error comes in the above line"
   ]
  },
  {
   "cell_type": "code",
   "execution_count": 6,
   "id": "b4af4766-408b-4d04-915a-677922473b5a",
   "metadata": {},
   "outputs": [
    {
     "name": "stdout",
     "output_type": "stream",
     "text": [
      "Error Can't be Tackled\n"
     ]
    }
   ],
   "source": [
    "Exception_Handling.info(\"Error Can't be Tackled\")\n",
    "Exception_Handling.error(\"Error Occured\")\n",
    "\n",
    "print(\"Error Can't be Tackled\")"
   ]
  },
  {
   "cell_type": "markdown",
   "id": "0173edb8-f779-4cc1-9d72-b73eae8d44e2",
   "metadata": {},
   "source": [
    "    After Exception Handling.........."
   ]
  },
  {
   "cell_type": "code",
   "execution_count": 7,
   "id": "b4a55812-8ed1-4de1-8cd8-b52e7a2a4f4c",
   "metadata": {},
   "outputs": [],
   "source": [
    "Exception_Handling.info(\"After Exception Handling..........\")"
   ]
  },
  {
   "cell_type": "code",
   "execution_count": 8,
   "id": "457351e0-310a-40dc-833f-c9b2041880f3",
   "metadata": {},
   "outputs": [
    {
     "name": "stdout",
     "output_type": "stream",
     "text": [
      "Error Tacked\n"
     ]
    }
   ],
   "source": [
    "try:\n",
    "    result = divide_numbers(10, 0)\n",
    "    Exception_Handling.info(\"Result: {}\".format(result))\n",
    "except ZeroDivisionError:\n",
    "    Exception_Handling.error(\"Error Tackled\")\n",
    "finally:\n",
    "    print(\"Error Tacked\")"
   ]
  },
  {
   "cell_type": "markdown",
   "id": "e02ae53e-f2f7-40b7-93ea-e229de24573f",
   "metadata": {},
   "source": [
    "-------------------------------------------------------------------------------------------------------------------"
   ]
  },
  {
   "cell_type": "markdown",
   "id": "5777c05d-14c2-40b2-89cd-580fe0a48dc9",
   "metadata": {},
   "source": [
    "Q.No-03    Which Python statements are used to catch and handle exceptions? Explain with an example."
   ]
  },
  {
   "cell_type": "markdown",
   "id": "c32af45c-f912-48fe-a8d4-0c9bafaffb3c",
   "metadata": {},
   "source": [
    "Ans:"
   ]
  },
  {
   "cell_type": "markdown",
   "id": "ddeb0d22-80e3-4f1a-b38d-6bfdb5d19e67",
   "metadata": {},
   "source": [
    "In Python, you can use the try and except statements to catch and handle exceptions. The try block contains the code that might raise an exception, and the except block specifies the actions to be taken if a specific exception occurs. "
   ]
  },
  {
   "cell_type": "markdown",
   "id": "b437e61d-a670-4cd3-ae7a-025eec64a39d",
   "metadata": {},
   "source": [
    "For Example:"
   ]
  },
  {
   "cell_type": "code",
   "execution_count": 2,
   "id": "c9aa5510-8fa1-44c0-9006-f7fc5045854e",
   "metadata": {},
   "outputs": [],
   "source": [
    "import logging\n",
    "\n",
    "logging.basicConfig(filename=\"Age_calculator.log\" , level=logging.INFO, format= ('%(levelname)s - %(message)s'))"
   ]
  },
  {
   "cell_type": "code",
   "execution_count": 3,
   "id": "eb898685-f6cf-42dd-8500-db0d68c87ea7",
   "metadata": {},
   "outputs": [],
   "source": [
    "logging.info(\"I'm going to create a Age Calculator by Birth Year\")"
   ]
  },
  {
   "cell_type": "code",
   "execution_count": 4,
   "id": "b6c994b0-bda9-4913-ae2a-93540c173093",
   "metadata": {},
   "outputs": [],
   "source": [
    "logging.info(\"In this process, I have to do certain thing \")"
   ]
  },
  {
   "cell_type": "code",
   "execution_count": 5,
   "id": "96ddec06-31a5-4510-9fe3-8e2d059f3c7c",
   "metadata": {},
   "outputs": [],
   "source": [
    "logging.info(\"Here I'm going to create custom exception class called Validate_Year.\")"
   ]
  },
  {
   "cell_type": "code",
   "execution_count": 6,
   "id": "c70565bf-6a8c-4efb-8cac-7888e4c741bf",
   "metadata": {},
   "outputs": [],
   "source": [
    "logging.info(\"It inherits from the built-in Exception class\")"
   ]
  },
  {
   "cell_type": "code",
   "execution_count": 7,
   "id": "130dc94b-3f5a-4c97-816a-0d0a655fdaec",
   "metadata": {},
   "outputs": [],
   "source": [
    "class Validate_Year(Exception):\n",
    "    \n",
    "    def __init__(self , msg) : \n",
    "        self.msg = msg"
   ]
  },
  {
   "cell_type": "code",
   "execution_count": 8,
   "id": "7b7c31ec-da94-4bf6-a4e5-80927142ecf5",
   "metadata": {},
   "outputs": [],
   "source": [
    "logging.info(\"define a function named validae_Year that takes a Birth_Year parameter\")"
   ]
  },
  {
   "cell_type": "code",
   "execution_count": 9,
   "id": "7ff66364-7452-46b5-974f-a8a4c1db5536",
   "metadata": {},
   "outputs": [],
   "source": [
    "def validate_Year(Birth_Year) : \n",
    "    if Birth_Year < 0 :\n",
    "        raise Validate_Year(\"entered Year is negative\")\n",
    "    elif Birth_Year > Current_Year : \n",
    "        raise Validate_Year(\"enterd Year is high\")\n",
    "    elif Birth_Year == 0 :\n",
    "        raise Validate_Year(\"entered Year is not valid\")\n",
    "    elif Birth_Year == Current_Year :\n",
    "        raise Validate_Year(\"entered Year is not valid\")"
   ]
  },
  {
   "cell_type": "code",
   "execution_count": 10,
   "id": "1e6bb150-536e-4b27-9309-ba6cde5a7376",
   "metadata": {},
   "outputs": [],
   "source": [
    "logging.info(\"Age is Strat calculating after the input given by the user\")"
   ]
  },
  {
   "cell_type": "code",
   "execution_count": 11,
   "id": "39745e74-a753-48b0-bd25-e06719e7d5d0",
   "metadata": {},
   "outputs": [
    {
     "name": "stdin",
     "output_type": "stream",
     "text": [
      "enter your Current Year : 2023\n",
      "enter your Birth Year : 2002\n"
     ]
    },
    {
     "name": "stdout",
     "output_type": "stream",
     "text": [
      "Age : 21 yrs\n"
     ]
    }
   ],
   "source": [
    "try :\n",
    "    Current_Year = int(input(\"enter your Current Year :\" ))\n",
    "    logging.info(\"User Entered Current Year : {}\".format(Current_Year))\n",
    "    Birth_Year = int(input(\"enter your Birth Year :\" ))\n",
    "    logging.info(\"User Entered Birth Year : {}\".format(Birth_Year))\n",
    "    validate_Year(Birth_Year)\n",
    "except Validate_Year as e:\n",
    "    print(e)\n",
    "    logging.info(\"Exception Occured : {}\".format(e))\n",
    "else :\n",
    "    age = Current_Year - Birth_Year\n",
    "    logging.info(\"Age is : {} yrs\".format(age))    \n",
    "    \n",
    "    print('Age :', age ,'yrs')"
   ]
  },
  {
   "cell_type": "markdown",
   "id": "c596e5a9-9752-45f3-9152-e21dead015ac",
   "metadata": {},
   "source": [
    "-------------------------------------------------------------------------------------------------------------------"
   ]
  },
  {
   "cell_type": "markdown",
   "id": "d254f002-2dab-403d-a412-e8650161a2f6",
   "metadata": {},
   "source": [
    "Q.No-04    Explain with an example:\n",
    "\n",
    "    a. try and else \n",
    "    b. finally\n",
    "    c. raise"
   ]
  },
  {
   "cell_type": "markdown",
   "id": "49131b15-a798-4c55-ad19-08bce963bbb4",
   "metadata": {},
   "source": [
    "Ans:"
   ]
  },
  {
   "cell_type": "markdown",
   "id": "98604ff6-904c-4e09-aa30-81894105daee",
   "metadata": {},
   "source": [
    "1.    try and else:"
   ]
  },
  {
   "cell_type": "markdown",
   "id": "929ffcdf-288a-4062-a8b1-c93ddced67b2",
   "metadata": {},
   "source": [
    "In Python, the try and else blocks are used together to handle exceptions. The try block contains the code that  might raise an exception, and the else block contains the code that should be executed if no exception occurs."
   ]
  },
  {
   "cell_type": "code",
   "execution_count": 24,
   "id": "294bb128-b74a-4fb0-8f5c-d23fc008b870",
   "metadata": {},
   "outputs": [
    {
     "name": "stdin",
     "output_type": "stream",
     "text": [
      "Enter a number:  88\n",
      "Enter another number:  11\n"
     ]
    },
    {
     "name": "stdout",
     "output_type": "stream",
     "text": [
      "The result of division is: 8.0\n"
     ]
    }
   ],
   "source": [
    "try:\n",
    "    num1 = int(input(\"Enter a number: \"))\n",
    "    num2 = int(input(\"Enter another number: \"))\n",
    "    result = num1 / num2\n",
    "except ValueError:\n",
    "    print(\"Invalid input: Please enter a valid number.\")\n",
    "except ZeroDivisionError:\n",
    "    print(\"Cannot divide by zero.\")\n",
    "else:\n",
    "    print(\"The result of division is:\", result)"
   ]
  },
  {
   "cell_type": "markdown",
   "id": "9e7e8023-2e90-4a06-80e2-0309120907e1",
   "metadata": {},
   "source": [
    "2.    finally:"
   ]
  },
  {
   "cell_type": "markdown",
   "id": "d31da135-ce0b-41ba-a7e2-4ba7de456b56",
   "metadata": {},
   "source": [
    "The finally block is used in conjunction with the try block to define a piece of code that will be executed regardless of whether an exception occurs or not. It ensures that certain actions are taken, such as closing files or releasing resources, irrespective of exceptions."
   ]
  },
  {
   "cell_type": "code",
   "execution_count": 21,
   "id": "08139479-e0ed-40c7-a35e-af6ad17dfdc9",
   "metadata": {},
   "outputs": [
    {
     "name": "stdout",
     "output_type": "stream",
     "text": [
      "File not found.\n",
      "Hello, World\n"
     ]
    }
   ],
   "source": [
    "try:\n",
    "    file = open(\"example.txt\", \"r\")\n",
    "    content = file.read()\n",
    "except FileNotFoundError:\n",
    "    print(\"File not found.\")\n",
    "else:\n",
    "     print(content)\n",
    "finally:\n",
    "    file = open(\"Example.txt\", 'w')\n",
    "    file.write(\"Hello, World\")\n",
    "    file.close()\n",
    "\n",
    "# Demo:-\n",
    "demo = open(\"Example.txt\", 'r')\n",
    "Content = demo.read()\n",
    "print(Content)\n",
    "demo.close()"
   ]
  },
  {
   "cell_type": "markdown",
   "id": "839c9be0-d3f0-4e09-872e-b811806af260",
   "metadata": {},
   "source": [
    "3.    raise:"
   ]
  },
  {
   "cell_type": "markdown",
   "id": "cbdabc5a-a333-405c-a994-c62e3b90a1d7",
   "metadata": {},
   "source": [
    "In Python, the raise keyword is used to manually raise an exception. It allows you to explicitly trigger an exception under specific conditions."
   ]
  },
  {
   "cell_type": "code",
   "execution_count": 26,
   "id": "d950f81a-31d3-4fcd-affc-d443efad7e45",
   "metadata": {},
   "outputs": [
    {
     "name": "stdout",
     "output_type": "stream",
     "text": [
      "Discount: 160.0\n"
     ]
    }
   ],
   "source": [
    "def calculate_discount(amount):\n",
    "    if amount < 0:\n",
    "        raise ValueError(\"Invalid amount. Amount cannot be negative.\")\n",
    "    if amount > 1000:\n",
    "        raise Exception(\"Amount exceeds the maximum limit.\")\n",
    "    # Calculate and return the discount\n",
    "    return amount * 0.2\n",
    "\n",
    "try:\n",
    "    discount = calculate_discount(800)\n",
    "    print(\"Discount:\", discount)\n",
    "except ValueError as ve:\n",
    "    print(ve)\n",
    "except Exception as e:\n",
    "    print(e)"
   ]
  },
  {
   "cell_type": "markdown",
   "id": "eb5caeed-f3c3-47e8-aaf8-f07f2fd3e650",
   "metadata": {},
   "source": [
    "-------------------------------------------------------------------------------------------------------------------"
   ]
  },
  {
   "cell_type": "markdown",
   "id": "ba985fd9-9fc6-4b00-b454-f0d83c43f86c",
   "metadata": {},
   "source": [
    "Q.No-05    What are Custom Exceptions in python? Why do we need Custom Exceptions? Explain with an example."
   ]
  },
  {
   "cell_type": "markdown",
   "id": "6aa8bb07-ff77-449e-8763-8771ec43324b",
   "metadata": {},
   "source": [
    "Ans:"
   ]
  },
  {
   "cell_type": "markdown",
   "id": "22bad180-f430-4144-9dd2-ba8a5bf450f4",
   "metadata": {},
   "source": [
    "custom exceptions are user-defined exceptions that allow you to create and raise your own exceptional conditions in a program. While Python provides built-in exceptions like ValueError or TypeError, you might need to define your own exceptions to handle specific errors or exceptional cases that are relevant to your application."
   ]
  },
  {
   "cell_type": "markdown",
   "id": "960bbe22-0d34-42f6-8c5e-cb7be4225528",
   "metadata": {},
   "source": [
    "Custom exceptions are useful in the following scenarios:"
   ]
  },
  {
   "cell_type": "markdown",
   "id": "d743759a-d9e5-401b-912d-136f4615f5ab",
   "metadata": {},
   "source": [
    "1.    Adding specificity:"
   ]
  },
  {
   "cell_type": "markdown",
   "id": "8fe09b5d-61b4-462c-b656-f1622b55d874",
   "metadata": {},
   "source": [
    "By defining custom exceptions, you can provide more specific information about the type of error or exceptional condition that occurred. This can help in better understanding and handling the error."
   ]
  },
  {
   "cell_type": "markdown",
   "id": "0c59d72c-d0a3-41de-9995-62a0c5e11ba5",
   "metadata": {},
   "source": [
    "2.    Modularity and code organization:"
   ]
  },
  {
   "cell_type": "markdown",
   "id": "9b1645c2-852e-4518-9430-810f01c328ab",
   "metadata": {},
   "source": [
    "Custom exceptions allow you to encapsulate error conditions specific to your application or module, making your code more modular and organized."
   ]
  },
  {
   "cell_type": "markdown",
   "id": "4eb47afa-832e-48f0-a143-93bacb7838a5",
   "metadata": {},
   "source": [
    "3.    Error handling and debugging:"
   ]
  },
  {
   "cell_type": "markdown",
   "id": "95988998-62c7-4d1c-b517-ae18f254c1af",
   "metadata": {},
   "source": [
    "Custom exceptions provide a way to differentiate between different types of errors and handle them appropriately. They also assist in debugging by providing a clear indication of the cause of an error."
   ]
  },
  {
   "cell_type": "code",
   "execution_count": 25,
   "id": "16853eb8-851b-4187-9bd0-0ee8a8134efb",
   "metadata": {},
   "outputs": [],
   "source": [
    "import random\n",
    "import string"
   ]
  },
  {
   "cell_type": "code",
   "execution_count": 26,
   "id": "48ee9efd-9338-4f04-9bb7-25f2edb993bc",
   "metadata": {},
   "outputs": [],
   "source": [
    "def Captcha(length):\n",
    "    characters = string.ascii_letters + string.digits\n",
    "    random_string = ''.join(random.choice(characters) for _ in range(length))\n",
    "    return random_string\n",
    "\n",
    "captcha = Captcha(6)"
   ]
  },
  {
   "cell_type": "code",
   "execution_count": 31,
   "id": "4da36fa2-b120-40b7-8939-9ce177c234f1",
   "metadata": {},
   "outputs": [
    {
     "name": "stdin",
     "output_type": "stream",
     "text": [
      "Enter the Amount You want to withdrawal : 200\n"
     ]
    },
    {
     "name": "stdout",
     "output_type": "stream",
     "text": [
      "Amount Withdraw Successfully\n",
      "Captcha : ZYGzl4\n"
     ]
    },
    {
     "name": "stdin",
     "output_type": "stream",
     "text": [
      "Enter Captcha : ZYGzl4\n"
     ]
    },
    {
     "name": "stdout",
     "output_type": "stream",
     "text": [
      "Your Current Bank Balance : 800\n"
     ]
    }
   ],
   "source": [
    "class InsufficientBalanceError(Exception):\n",
    "    pass\n",
    "\n",
    "class BankAccount:\n",
    "    def __init__(self, Account_Holder_Name, Balance):\n",
    "        self.Account_Holder_Name = Account_Holder_Name\n",
    "        self.__Balance = Balance\n",
    "    \n",
    "    def withdraw(self, amount):\n",
    "        if amount > self.__Balance:\n",
    "            raise InsufficientBalanceError(\"Insufficient balance in the account.\")\n",
    "        else:\n",
    "            self.__Balance = self.__Balance - amount\n",
    "            print('Amount Withdraw Successfully')\n",
    "    \n",
    "    def Mini_Statement(self):\n",
    "        print('Captcha :',captcha)\n",
    "        if captcha == input('Enter Captcha :'  ):\n",
    "            return self.__Balance\n",
    "        else:\n",
    "            print(\"You can't access The Password \")\n",
    "            \n",
    "\n",
    "try:\n",
    "    account = BankAccount('Ankit Kumar', 1000)\n",
    "    amount = int(input('Enter the Amount You want to withdrawal :' ))\n",
    "    account.withdraw(amount)\n",
    "except InsufficientBalanceError as e:\n",
    "    print(str(e))\n",
    "else:\n",
    "    print('Your Current Bank Balance :', account.Mini_Statement())\n",
    "            "
   ]
  },
  {
   "cell_type": "markdown",
   "id": "6d0f0249-7d2c-4ae4-8008-79e28a0c81fd",
   "metadata": {},
   "source": [
    "-------------------------------------------------------------------------------------------------------------------"
   ]
  },
  {
   "cell_type": "markdown",
   "id": "9d62c488-ebea-4bed-9a28-c2994bb47151",
   "metadata": {},
   "source": [
    "Q.No-06    Create a custom exception class. Use  this class to handle an exception."
   ]
  },
  {
   "cell_type": "markdown",
   "id": "fc7910dc-7e96-4b6d-b517-b298e45e9dda",
   "metadata": {},
   "source": [
    "Ans:"
   ]
  },
  {
   "cell_type": "code",
   "execution_count": 1,
   "id": "eda41679-9e5b-4eb2-990e-a820faa5d2b8",
   "metadata": {},
   "outputs": [
    {
     "name": "stdout",
     "output_type": "stream",
     "text": [
      "Result: 5.0\n"
     ]
    }
   ],
   "source": [
    "class CustomException(Exception):\n",
    "    def __init__(self, message):\n",
    "        self.message = message\n",
    "    \n",
    "def divide_numbers(a, b):\n",
    "    if b == 0:\n",
    "        raise CustomException(\"Division by zero is not allowed.\")\n",
    "    else:\n",
    "        return a / b\n",
    "\n",
    "try:\n",
    "    result = divide_numbers(10, 2)\n",
    "    print(\"Result:\", result)\n",
    "except CustomException as e:\n",
    "    print(\"Exception occurred:\", str(e))"
   ]
  },
  {
   "cell_type": "code",
   "execution_count": null,
   "id": "b18c16de-c095-4d11-90fb-464663df42e5",
   "metadata": {},
   "outputs": [],
   "source": []
  }
 ],
 "metadata": {
  "kernelspec": {
   "display_name": "Python 3 (ipykernel)",
   "language": "python",
   "name": "python3"
  },
  "language_info": {
   "codemirror_mode": {
    "name": "ipython",
    "version": 3
   },
   "file_extension": ".py",
   "mimetype": "text/x-python",
   "name": "python",
   "nbconvert_exporter": "python",
   "pygments_lexer": "ipython3",
   "version": "3.10.8"
  }
 },
 "nbformat": 4,
 "nbformat_minor": 5
}
